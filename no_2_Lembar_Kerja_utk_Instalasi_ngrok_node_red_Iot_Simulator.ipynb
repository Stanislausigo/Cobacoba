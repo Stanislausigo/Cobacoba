{
  "cells": [
    {
      "cell_type": "markdown",
      "metadata": {
        "id": "view-in-github",
        "colab_type": "text"
      },
      "source": [
        "<a href=\"https://colab.research.google.com/github/Stanislausigo/Cobacoba/blob/main/no_2_Lembar_Kerja_utk_Instalasi_ngrok_node_red_Iot_Simulator.ipynb\" target=\"_parent\"><img src=\"https://colab.research.google.com/assets/colab-badge.svg\" alt=\"Open In Colab\"/></a>"
      ]
    },
    {
      "cell_type": "markdown",
      "metadata": {
        "id": "dSDPkG1d3tdx"
      },
      "source": [
        "<p><img alt=\"Colaboratory logo\" height=\"45px\" src=\"/img/colab_favicon.ico\" align=\"left\" hspace=\"10px\" vspace=\"0px\"></p>\n",
        "\n",
        "<h1>Lembar Kerja, Filkom UB</h1>\n",
        "\n",
        "**************************************\n",
        "Dosen Pengampu: Imam Cholissodin, S.Si., M.Kom. | imamcs@ub.ac.id | Fakultas Ilmu Komputer (Filkom), Universitas Brawijaya (UB) | Semester Genap 2021/2022 | Dibuat pada 30 Maret 2022\n",
        "\n",
        "Semoga Bermanfaat. Aamiin :D\n",
        "**************************************\n",
        "\n",
        "Kelompok Kelas 2 : Kelas A, Anggota (Nama dan NIM) :\n",
        "1. Renata Ariana Handoko , NIM = 205150300111020\n",
        "2. Muhammad Ari Nugroho , NIM = 205150300111027\n",
        "3. Dani Mahardika Suroso , NIM = 205150301111012\n",
        "4. Stanislaus Glorius Vigo Angeswara , NIM = 205150307111018\n",
        "5. Faiz Ibrahim Gammanuha, NIM = 215150309111005"
      ]
    },
    {
      "cell_type": "code",
      "execution_count": null,
      "metadata": {
        "colab": {
          "base_uri": "https://localhost:8080/"
        },
        "id": "9ys0-VQgu9Kl",
        "outputId": "b4a66776-be6f-4fc4-f50a-bb8e0735d7ff"
      },
      "outputs": [
        {
          "name": "stdout",
          "output_type": "stream",
          "text": [
            "Drive already mounted at /content/drive; to attempt to forcibly remount, call drive.mount(\"/content/drive\", force_remount=True).\n"
          ]
        }
      ],
      "source": [
        "from google.colab import drive\n",
        "drive.mount('/content/drive')"
      ]
    },
    {
      "cell_type": "markdown",
      "metadata": {
        "id": "8vWP7f0DR75M"
      },
      "source": [
        "# Node JS SmartIot (Part 1 of 2)"
      ]
    },
    {
      "cell_type": "code",
      "execution_count": null,
      "metadata": {
        "colab": {
          "base_uri": "https://localhost:8080/"
        },
        "id": "SC8xlaGjmwWo",
        "outputId": "1868d2f4-6f4f-4d61-9f92-68c0edd2a274"
      },
      "outputs": [
        {
          "name": "stdout",
          "output_type": "stream",
          "text": [
            "/content/drive/My Drive/DAA Kelompok/UTS (Project)\n",
            "total 9K\n",
            "-rw------- 1 root root 1K May 29 13:28 .env\n",
            "drwx------ 5 root root 4K May 27 15:01 iot-device-simulator-1-mqtt\n",
            "drwx------ 5 root root 4K May 29 13:30 node-red-contrib-mqtt-plus\n"
          ]
        }
      ],
      "source": [
        "import os\n",
        "from google.colab import output\n",
        "os.chdir(\"/content/drive/My Drive\")\n",
        "path = \"DAA Kelompok/UTS (Project)\"\n",
        "if not os.path.exists(path):\n",
        "    os.makedirs(path)\n",
        "    os.chdir(\"/content/drive/My Drive/\"+path)\n",
        "    \n",
        "os.chdir(\"/content/drive/My Drive/\"+path)\n",
        "\n",
        "!pwd\n",
        "!ls -l -a --block-size=K"
      ]
    },
    {
      "cell_type": "code",
      "execution_count": null,
      "metadata": {
        "colab": {
          "base_uri": "https://localhost:8080/"
        },
        "id": "2HzLLeGxH4A_",
        "outputId": "12727060-df83-4e6f-c9d0-4a68c132face"
      },
      "outputs": [
        {
          "name": "stdout",
          "output_type": "stream",
          "text": [
            "Overwriting .env\n"
          ]
        }
      ],
      "source": [
        "# Buatlah token dengan Sign-Up atau register ke htpps://dashboard.ngrok.com/auth dan https://flespi.io\n",
        "# get token dari keduanya, lalu masukkan pada kode di bawah ini, aktifkan kodenya lalu jalankan, lalu hide kembali token anda\n",
        "\n",
        "%%file .env\n",
        "NGROK_AUTH_TOKEN = '275d9garjONiXoLyc66HtHe9dzp_811wzXN7C1cHZUdFjKGe8'\n",
        "TOKEN_flespi = 'L9rd09LauBod2iAp32MGO1ZYAd5Y0ZIAWYDKVcLfEXgu5HJYxms9dhVBlOo9EUzo'"
      ]
    },
    {
      "cell_type": "markdown",
      "metadata": {
        "id": "1Zo3jM5xa_Ez"
      },
      "source": [
        "#Run nodejs / npm pada Google Colab. untuk SmartIot (Part 2 of 2)"
      ]
    },
    {
      "cell_type": "code",
      "execution_count": null,
      "metadata": {
        "id": "rcqzom_K6e6C"
      },
      "outputs": [],
      "source": [
        "# Run nodejs / npm pada Colab.\n",
        "# ref: \n",
        "# [1] https://github.com/phyunsj/iot-device-simulator-1-mqtt\n",
        "# [2] https://stackoverflow.com/questions/63105093/nodejs-and-google-colab\n",
        "# [3] https://www.whatsmyip.org/\n",
        "# [4] https://www.youtube.com/watch?v=5lzkCEf6oq8\n",
        "# [5] https://github.com/node-red/node-red-dashboard\n",
        "# "
      ]
    },
    {
      "cell_type": "markdown",
      "metadata": {
        "id": "25Li3pIJbKVM"
      },
      "source": [
        "## 1. Clone resource dari github"
      ]
    },
    {
      "cell_type": "code",
      "execution_count": null,
      "metadata": {
        "id": "fHGIzVlU6BWx"
      },
      "outputs": [],
      "source": [
        "#Ref: https://github.com/phyunsj/iot-device-simulator-1-mqtt\n",
        "os.chdir(\"/content/drive/My Drive/\"+path)\n",
        "if not os.path.exists(\"./iot-sim\"):\n",
        "  !git clone https://github.com/phyunsj/iot-device-simulator-1-mqtt.git\n",
        "\n",
        "  # !mv iot-device-simulator-1-mqtt/ iot-sim/\n",
        "\n",
        "if not os.path.exists(\"./node-red-contrib-mqtt-plus\"):\n",
        "  !git clone https://github.com/btsimonh/node-red-contrib-mqtt-plus\n",
        "\n",
        "os.chdir(\"/content/drive/My Drive/\"+path)\n",
        "output.clear()"
      ]
    },
    {
      "cell_type": "markdown",
      "metadata": {
        "id": "MDc-zHHFbwpk"
      },
      "source": [
        "## 2. Install npm dan node-red serta dashboardnya"
      ]
    },
    {
      "cell_type": "code",
      "execution_count": null,
      "metadata": {
        "colab": {
          "base_uri": "https://localhost:8080/"
        },
        "id": "mUDrSbXqjcnG",
        "outputId": "3a7cce31-7fc7-4ab5-df9a-4f7f685ec6e2"
      },
      "outputs": [
        {
          "name": "stdout",
          "output_type": "stream",
          "text": [
            "6.14.8\n"
          ]
        }
      ],
      "source": [
        "!npm --version"
      ]
    },
    {
      "cell_type": "code",
      "execution_count": null,
      "metadata": {
        "colab": {
          "base_uri": "https://localhost:8080/"
        },
        "id": "ijxCaTzTYMgg",
        "outputId": "e8975a39-b8db-4c9a-b701-23d240924edf"
      },
      "outputs": [
        {
          "name": "stdout",
          "output_type": "stream",
          "text": [
            "\u001b[K\u001b[?25h\u001b[37;40mnpm\u001b[0m \u001b[0m\u001b[30;43mWARN\u001b[0m\u001b[35m\u001b[0m node-red-contrib-iot-simulator@0.0.1 No repository field.\n",
            "\u001b[0m\u001b[37;40mnpm\u001b[0m \u001b[0m\u001b[30;43mWARN\u001b[0m\u001b[35m\u001b[0m node-red-contrib-iot-simulator@0.0.1 No license field.\n",
            "\u001b[0m\n",
            "\u001b[K\u001b[?25haudited 55 packages in 0.946s\n",
            "found \u001b[92m0\u001b[0m vulnerabilities\n",
            "\n",
            "\u001b[K\u001b[?25h\u001b[37;40mnpm\u001b[0m \u001b[0m\u001b[30;43mWARN\u001b[0m\u001b[35m\u001b[0m node-red-contrib-iot-simulator@0.0.1 No repository field.\n",
            "\u001b[0m\u001b[37;40mnpm\u001b[0m \u001b[0m\u001b[30;43mWARN\u001b[0m\u001b[35m\u001b[0m node-red-contrib-iot-simulator@0.0.1 No license field.\n",
            "\u001b[0m\n",
            "up to date in 0.758s\n",
            "fixed 0 of 0 vulnerabilities in 55 scanned packages\n",
            "\u001b[37;40mnpm\u001b[0m \u001b[0m\u001b[30;43mWARN\u001b[0m \u001b[0m\u001b[35musing --force\u001b[0m I sure hope you know what you are doing.\n",
            "\u001b[K\u001b[?25h\u001b[37;40mnpm\u001b[0m \u001b[0m\u001b[30;43mWARN\u001b[0m\u001b[35m\u001b[0m node-red-contrib-iot-simulator@0.0.1 No repository field.\n",
            "\u001b[0m\u001b[37;40mnpm\u001b[0m \u001b[0m\u001b[30;43mWARN\u001b[0m\u001b[35m\u001b[0m node-red-contrib-iot-simulator@0.0.1 No license field.\n",
            "\u001b[0m\n",
            "up to date in 0.758s\n",
            "fixed 0 of 0 vulnerabilities in 55 scanned packages\n",
            "\u001b[K\u001b[?25h\u001b[37;40mnpm\u001b[0m \u001b[0m\u001b[30;43mWARN\u001b[0m\u001b[35m\u001b[0m node-red-contrib-iot-simulator@0.0.1 No repository field.\n",
            "\u001b[0m\u001b[37;40mnpm\u001b[0m \u001b[0m\u001b[30;43mWARN\u001b[0m\u001b[35m\u001b[0m node-red-contrib-iot-simulator@0.0.1 No license field.\n",
            "\u001b[0m\n",
            "\u001b[K\u001b[?25haudited 55 packages in 0.927s\n",
            "found \u001b[92m0\u001b[0m vulnerabilities\n",
            "\n",
            "\u001b[K\u001b[?25h\u001b[37;40mnpm\u001b[0m \u001b[0m\u001b[30;43mWARN\u001b[0m\u001b[35m\u001b[0m node-red-contrib-iot-simulator@0.0.1 No repository field.\n",
            "\u001b[0m\u001b[37;40mnpm\u001b[0m \u001b[0m\u001b[30;43mWARN\u001b[0m\u001b[35m\u001b[0m node-red-contrib-iot-simulator@0.0.1 No license field.\n",
            "\u001b[0m\n",
            "+ https-proxy-agent@5.0.1\n",
            "updated 1 package and audited 55 packages in 1.233s\n",
            "found \u001b[92m0\u001b[0m vulnerabilities\n",
            "\n",
            "\u001b[K\u001b[?25h\u001b[37;40mnpm\u001b[0m \u001b[0m\u001b[30;43mWARN\u001b[0m \u001b[0m\u001b[35mdeprecated\u001b[0m multer@1.4.4: Multer 1.x is affected by CVE-2022-24434. This is fixed in v1.4.4-lts.1 which drops support for versions of Node.js before 6. Please upgrade to at least Node.js 6 and version 1.4.4-lts.1 of Multer. If you need support for older versions of Node.js, we are open to accepting patches that would fix the CVE on the main 1.x release line, whilst maintaining compatibility with Node.js 0.10.\n",
            "\u001b[K\u001b[?25h\u001b[37;40mnpm\u001b[0m \u001b[0m\u001b[30;43mWARN\u001b[0m \u001b[0m\u001b[35mdeprecated\u001b[0m axios@0.27.0: Formdata complete broken, incorrect build size\n",
            "\u001b[K\u001b[?25h/tools/node/bin/node-red -> /tools/node/lib/node_modules/node-red/red.js\n",
            "/tools/node/bin/node-red-pi -> /tools/node/lib/node_modules/node-red/bin/node-red-pi\n",
            "+ node-red@2.2.2\n",
            "updated 1 package in 6.644s\n",
            "\u001b[K\u001b[?25h\u001b[37;40mnpm\u001b[0m \u001b[0m\u001b[30;43mWARN\u001b[0m\u001b[35m\u001b[0m node-red-contrib-iot-simulator@0.0.1 No repository field.\n",
            "\u001b[0m\u001b[37;40mnpm\u001b[0m \u001b[0m\u001b[30;43mWARN\u001b[0m\u001b[35m\u001b[0m node-red-contrib-iot-simulator@0.0.1 No license field.\n",
            "\u001b[0m\n",
            "+ node-red-dashboard@3.1.7\n",
            "updated 1 package and audited 55 packages in 3.566s\n",
            "found \u001b[92m0\u001b[0m vulnerabilities\n",
            "\n",
            "\u001b[K\u001b[?25h"
          ]
        }
      ],
      "source": [
        "os.chdir(\"/content/drive/My Drive/\"+path+\"/iot-device-simulator-1-mqtt/node-red-contrib-iot-simulator\")\n",
        "!npm i --package-lock-only\n",
        "!npm audit fix\n",
        "!npm audit fix --force\n",
        "!npm install\n",
        "# !npm install ./\n",
        "!npm install https-proxy-agent\n",
        "!npm install -g --unsafe-perm node-red\n",
        "!npm install node-red-dashboard\n",
        "\n",
        "# output.clear()"
      ]
    },
    {
      "cell_type": "code",
      "execution_count": null,
      "metadata": {
        "colab": {
          "background_save": true
        },
        "id": "PtjycyKxYSoR",
        "outputId": "7ede3109-2426-4a2b-9dbe-e0957f1750ba"
      },
      "outputs": [
        {
          "name": "stdout",
          "output_type": "stream",
          "text": [
            "29 May 13:29:31 - [info] \n",
            "\n",
            "Welcome to Node-RED\n",
            "===================\n",
            "\n",
            "29 May 13:29:31 - [info] Node-RED version: v2.2.2\n",
            "29 May 13:29:31 - [info] Node.js  version: v14.16.0\n",
            "29 May 13:29:31 - [info] Linux 5.4.188+ x64 LE\n",
            "29 May 13:29:32 - [info] Loading palette nodes\n",
            "29 May 13:29:32 - [info] Settings file  : /root/.node-red/settings.js\n",
            "29 May 13:29:32 - [info] Context store  : 'default' [module=memory]\n",
            "29 May 13:29:32 - [info] User directory : /root/.node-red\n",
            "29 May 13:29:32 - [warn] Projects disabled : editorTheme.projects.enabled=false\n",
            "29 May 13:29:32 - [info] Flows file     : /root/.node-red/stop\n",
            "29 May 13:29:32 - [info] Creating new flow file\n",
            "29 May 13:29:32 - [warn] \n",
            "\n",
            "---------------------------------------------------------------------\n",
            "Your flow credentials file is encrypted using a system-generated key.\n",
            "\n",
            "If the system-generated key is lost for any reason, your credentials\n",
            "file will not be recoverable, you will have to delete it and re-enter\n",
            "your credentials.\n",
            "\n",
            "You should set your own key using the 'credentialSecret' option in\n",
            "your settings file. Node-RED will then re-encrypt your credentials\n",
            "file using your chosen key the next time you deploy a change.\n",
            "---------------------------------------------------------------------\n",
            "\n",
            "29 May 13:29:32 - [info] Server now running at http://127.0.0.1:1880/\n",
            "29 May 13:29:32 - [info] Starting flows\n",
            "29 May 13:29:32 - [info] Started flows\n"
          ]
        }
      ],
      "source": [
        "!node-red stop # jalankan sampai muncul link locahost-nya, lalu stop cell-nya"
      ]
    },
    {
      "cell_type": "code",
      "execution_count": null,
      "metadata": {
        "colab": {
          "base_uri": "https://localhost:8080/"
        },
        "id": "QjYF_WpPkv2m",
        "outputId": "c371a26e-9422-4509-c765-955864b0e02f"
      },
      "outputs": [
        {
          "name": "stdout",
          "output_type": "stream",
          "text": [
            "\u001b[K\u001b[?25h\u001b[37;40mnpm\u001b[0m \u001b[0m\u001b[34;40mnotice\u001b[0m\u001b[35m\u001b[0m created a lockfile as package-lock.json. You should commit this file.\n",
            "\u001b[K\u001b[?25hadded 62 packages and audited 62 packages in 3.829s\n",
            "found \u001b[91m2\u001b[0m vulnerabilities (1 \u001b[93mmoderate\u001b[0m, 1 \u001b[91mhigh\u001b[0m)\n",
            "  run `npm audit fix` to fix them, or `npm audit` for details\n",
            "\u001b[K\u001b[?25h^C\n",
            "\u001b[37;40mnpm\u001b[0m \u001b[0m\u001b[30;43mWARN\u001b[0m \u001b[0m\u001b[35musing --force\u001b[0m I sure hope you know what you are doing.\n"
          ]
        }
      ],
      "source": [
        "os.chdir(\"/content/drive/My Drive/\"+path+\"/node-red-contrib-mqtt-plus\")\n",
        "!npm i --package-lock-only\n",
        "!npm audit fix\n",
        "!npm audit fix --force\n",
        "!npm install\n",
        "# !npm install ./\n",
        "!npm install https-proxy-agent\n",
        "!npm install -g --unsafe-perm node-red\n",
        "!npm install node-red-dashboard\n",
        "\n",
        "# output.clear()"
      ]
    },
    {
      "cell_type": "code",
      "execution_count": null,
      "metadata": {
        "colab": {
          "base_uri": "https://localhost:8080/"
        },
        "id": "icCQDM-ceDdg",
        "outputId": "e144743e-629d-456c-df16-2c8b16e85931"
      },
      "outputs": [
        {
          "name": "stdout",
          "output_type": "stream",
          "text": [
            "\u001b[K\u001b[?25h\u001b[37;40mnpm\u001b[0m \u001b[0m\u001b[34;40mnotice\u001b[0m\u001b[35m\u001b[0m created a lockfile as package-lock.json. You should commit this file.\n",
            "\u001b[0m+ node-red-dashboard@3.1.7\n",
            "added 55 packages from 99 contributors and audited 55 packages in 1.942s\n",
            "found \u001b[92m0\u001b[0m vulnerabilities\n",
            "\n",
            "\u001b[K\u001b[?25h"
          ]
        }
      ],
      "source": [
        "os.chdir(\"/\")\n",
        "os.chdir(\"/root/.node-red\")\n",
        "!npm install node-red-dashboard"
      ]
    },
    {
      "cell_type": "code",
      "execution_count": null,
      "metadata": {
        "colab": {
          "base_uri": "https://localhost:8080/"
        },
        "id": "RKMk6KQNpPcG",
        "outputId": "8fa2fa57-9d5b-4fa5-f491-786018d32d73"
      },
      "outputs": [
        {
          "name": "stdout",
          "output_type": "stream",
          "text": [
            "29 May 13:33:05 - [info] \n",
            "\n",
            "Welcome to Node-RED\n",
            "===================\n",
            "\n",
            "29 May 13:33:05 - [info] Node-RED version: v2.2.2\n",
            "29 May 13:33:05 - [info] Node.js  version: v14.16.0\n",
            "29 May 13:33:05 - [info] Linux 5.4.188+ x64 LE\n",
            "29 May 13:33:05 - [info] Loading palette nodes\n",
            "29 May 13:33:06 - [info] Dashboard version 3.1.7 started at /ui\n",
            "29 May 13:33:06 - [info] Settings file  : /root/.node-red/settings.js\n",
            "29 May 13:33:06 - [info] Context store  : 'default' [module=memory]\n",
            "29 May 13:33:06 - [info] User directory : /root/.node-red\n",
            "29 May 13:33:06 - [warn] Projects disabled : editorTheme.projects.enabled=false\n",
            "29 May 13:33:06 - [info] Flows file     : /root/.node-red/stop\n",
            "29 May 13:33:06 - [info] Creating new flow file\n",
            "29 May 13:33:06 - [warn] \n",
            "\n",
            "---------------------------------------------------------------------\n",
            "Your flow credentials file is encrypted using a system-generated key.\n",
            "\n",
            "If the system-generated key is lost for any reason, your credentials\n",
            "file will not be recoverable, you will have to delete it and re-enter\n",
            "your credentials.\n",
            "\n",
            "You should set your own key using the 'credentialSecret' option in\n",
            "your settings file. Node-RED will then re-encrypt your credentials\n",
            "file using your chosen key the next time you deploy a change.\n",
            "---------------------------------------------------------------------\n",
            "\n",
            "29 May 13:33:06 - [info] Server now running at http://127.0.0.1:1880/\n",
            "29 May 13:33:06 - [info] Starting flows\n",
            "29 May 13:33:06 - [info] Started flows\n",
            "29 May 13:33:11 - [info] Stopping flows\n",
            "29 May 13:33:11 - [info] Stopped flows\n"
          ]
        }
      ],
      "source": [
        "!node-red stop # jalankan sampai muncul link locahost-nya, lalu stop cell-nya"
      ]
    },
    {
      "cell_type": "markdown",
      "metadata": {
        "id": "j773v07CcWVd"
      },
      "source": [
        "## 3. Install node tambahan, yaitu output \"IoT Simulator\" pada node-red\n",
        "\n"
      ]
    },
    {
      "cell_type": "code",
      "execution_count": null,
      "metadata": {
        "id": "t9N3ypS8cZ2g"
      },
      "outputs": [],
      "source": [
        "# Install mqtt-plus (MQTT over websocket)\n",
        "os.chdir(\"/\")\n",
        "os.chdir(\"/root/.node-red\")\n",
        "!npm install '/content/drive/MyDrive/DAA Kelompok/UTS (Project)/iot-device-simulator-1-mqtt/node-red-contrib-iot-simulator'\n",
        "!npm install '/content/drive/MyDrive/DAA Kelompok/UTS (Project)/node-red-contrib-mqtt-plus'\n",
        "os.chdir(\"/content/drive/My Drive/\"+path)\n",
        "output.clear()"
      ]
    },
    {
      "cell_type": "markdown",
      "metadata": {
        "id": "Y7aO-Qwj0kqu"
      },
      "source": [
        "## 4. Run \"IoT Simulator + flespi MQTT Broker\" dgn tunnel"
      ]
    },
    {
      "cell_type": "code",
      "execution_count": null,
      "metadata": {
        "id": "L__sBh3oM2bP"
      },
      "outputs": [],
      "source": [
        "!pip install python-decouple\n",
        "!pip install pyngrok --quiet\n",
        "output.clear()"
      ]
    },
    {
      "cell_type": "code",
      "execution_count": null,
      "metadata": {
        "colab": {
          "base_uri": "https://localhost:8080/"
        },
        "id": "Yf19bX6efjwz",
        "outputId": "7557f6be-6f21-4cda-9e22-ac52eefb593e"
      },
      "outputs": [
        {
          "name": "stdout",
          "output_type": "stream",
          "text": [
            "L9rd09LauBod2iAp32MGO1ZYAd5Y0ZIAWYDKVcLfEXgu5HJYxms9dhVBlOo9EUzo   275d9garjONiXoLyc66HtHe9dzp_811wzXN7C1cHZUdFjKGe8\n"
          ]
        }
      ],
      "source": [
        "# get token yang dihiden dalam file *.env \n",
        "from decouple import config\n",
        "\n",
        "TOKEN_flespi = config('TOKEN_flespi',default='')\n",
        "NGROK_AUTH_TOKEN = config('NGROK_AUTH_TOKEN',default='')\n",
        "print(TOKEN_flespi,\" \",NGROK_AUTH_TOKEN)"
      ]
    },
    {
      "cell_type": "code",
      "execution_count": null,
      "metadata": {
        "id": "ciwArJ_we9T2"
      },
      "outputs": [],
      "source": [
        "# jika tidak jalan, coba ganti port-nya\n",
        "get_ipython().system_raw('node-red --ip=0.0.0.0 --port=8084 &')"
      ]
    },
    {
      "cell_type": "code",
      "execution_count": null,
      "metadata": {
        "colab": {
          "base_uri": "https://localhost:8080/"
        },
        "id": "b0Fck-mYfAq7",
        "outputId": "02082bb9-b3bf-4471-b4fa-3c9a4d21b859"
      },
      "outputs": [
        {
          "data": {
            "text/plain": [
              "<NgrokTunnel: \"http://ad2c-35-225-64-117.ngrok.io\" -> \"http://localhost:8084\">"
            ]
          },
          "execution_count": 36,
          "metadata": {},
          "output_type": "execute_result"
        }
      ],
      "source": [
        "from pyngrok import ngrok\n",
        "\n",
        "#terminate open tunnels if exist\n",
        "ngrok.kill()\n",
        "\n",
        "#Setting the authtoken (optional)\n",
        "#Get your authtoken from htpps://dashboard.ngrok.com/auth\n",
        "# NGROK_AUTH_TOKEN = \"\"\n",
        "ngrok.set_auth_token(NGROK_AUTH_TOKEN)\n",
        "ngrok.connect(8084)"
      ]
    },
    {
      "cell_type": "markdown",
      "metadata": {
        "id": "mtK7TCTHf1BT"
      },
      "source": [
        "# Hi All Great Students"
      ]
    },
    {
      "cell_type": "markdown",
      "metadata": {
        "id": "UUvpFcJx7t2M"
      },
      "source": [
        "Semoga Sukses. Aamiin. :D\n",
        "![]( https://docs.google.com/uc?export=download&id=1vJNmuncRehLc3WCZkFYCU6rRMVTy-w0k)"
      ]
    }
  ],
  "metadata": {
    "colab": {
      "collapsed_sections": [
        "25Li3pIJbKVM",
        "EKbWVzTKe0xY",
        "U9KGxNXIfMs5",
        "EmcdU8ZzfqsG",
        "WaijdO1UlQ2L",
        "TNBMTowNlVnp",
        "lJsEJg7Flwbv"
      ],
      "name": "no.2 - Lembar_Kerja_utk_Instalasi_ngrok_node_red_Iot_Simulator.ipynb",
      "provenance": [],
      "include_colab_link": true
    },
    "kernelspec": {
      "display_name": "Python 3",
      "language": "python",
      "name": "python3"
    },
    "language_info": {
      "codemirror_mode": {
        "name": "ipython",
        "version": 3
      },
      "file_extension": ".py",
      "mimetype": "text/x-python",
      "name": "python",
      "nbconvert_exporter": "python",
      "pygments_lexer": "ipython3",
      "version": "3.6.9"
    }
  },
  "nbformat": 4,
  "nbformat_minor": 0
}